{
 "cells": [
  {
   "cell_type": "markdown",
   "source": [
    "# On Rank Selection in Non-Negative Matrix Factorization using Concordance"
   ],
   "metadata": {
    "collapsed": false
   }
  },
  {
   "cell_type": "code",
   "execution_count": null,
   "outputs": [],
   "source": [
    "%load_ext autoreload\n",
    "%autoreload 2"
   ],
   "metadata": {
    "collapsed": false
   }
  },
  {
   "cell_type": "markdown",
   "source": [
    "# Libraries"
   ],
   "metadata": {
    "collapsed": false
   }
  },
  {
   "cell_type": "code",
   "execution_count": null,
   "outputs": [],
   "source": [
    "from nmf_utils import *\n",
    "\n",
    "# Ignore ConvergenceWarning messages from Scikit-learn\n",
    "import warnings\n",
    "from sklearn.exceptions import ConvergenceWarning\n",
    "warnings.simplefilter(\"ignore\", category=ConvergenceWarning)"
   ],
   "metadata": {
    "collapsed": false
   }
  },
  {
   "cell_type": "markdown",
   "source": [
    "# Paths & Parameters"
   ],
   "metadata": {
    "collapsed": false
   }
  },
  {
   "cell_type": "code",
   "execution_count": null,
   "outputs": [],
   "source": [
    "DATA_PATH = r'../datasets'\n",
    "DATASET_NAME = r'swimmer_2.csv'          # Swimmer\n",
    "# DATASET_NAME = r'Sausage Raw NIR.csv'  # Sausage\n",
    "# DATASET_NAME = r'ALL-AML Brunet.csv'   # Brunet\n",
    "\n",
    "min_comp = 10  # default=10\n",
    "max_comp = 20  # default=20\n",
    "n_runs = 50    # default=50\n",
    "iter_max = 10  # default=10"
   ],
   "metadata": {
    "collapsed": false
   }
  },
  {
   "cell_type": "markdown",
   "source": [
    "# Read Dataset"
   ],
   "metadata": {
    "collapsed": false
   }
  },
  {
   "cell_type": "code",
   "execution_count": null,
   "outputs": [],
   "source": [
    "df, m0 = read_dataset(DATA_PATH, DATASET_NAME)\n",
    "display(df)"
   ],
   "metadata": {
    "collapsed": false
   }
  },
  {
   "cell_type": "markdown",
   "source": [
    "# NMF Rank Determination"
   ],
   "metadata": {
    "collapsed": false
   }
  },
  {
   "cell_type": "code",
   "execution_count": null,
   "outputs": [],
   "source": [
    "# Cophenetic approach\n",
    "W_test_coph, H_test_coph, cusum_coph, est_rank_coph = perform_rank_determination(m0, min_comp, max_comp, iter_max, n_runs, method=\"cophenetic\", save_res=False)"
   ],
   "metadata": {
    "collapsed": false
   }
  },
  {
   "cell_type": "code",
   "execution_count": null,
   "outputs": [],
   "source": [
    "# Concordance approach\n",
    "W_test_conc, H_test_conc, cusum_conc, est_rank_conc = perform_rank_determination(m0, min_comp, max_comp, iter_max, n_runs, method=\"concordance\", save_res=False)"
   ],
   "metadata": {
    "collapsed": false
   }
  }
 ],
 "metadata": {
  "kernelspec": {
   "display_name": "Python 3",
   "language": "python",
   "name": "python3"
  },
  "language_info": {
   "codemirror_mode": {
    "name": "ipython",
    "version": 3
   },
   "file_extension": ".py",
   "mimetype": "text/x-python",
   "name": "python",
   "nbconvert_exporter": "python",
   "pygments_lexer": "ipython3",
   "version": "3.9.0"
  },
  "orig_nbformat": 4
 },
 "nbformat": 4,
 "nbformat_minor": 2
}
