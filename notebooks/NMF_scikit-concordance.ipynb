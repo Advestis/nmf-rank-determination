{
 "cells": [
  {
   "cell_type": "code",
   "execution_count": 3,
   "metadata": {},
   "outputs": [],
   "source": [
    "from sklearn.decomposition import NMF\n",
    "import pandas as pd\n",
    "import numpy as np\n",
    "from IPython.display import clear_output\n",
    "import time\n",
    "\n",
    "DATA_PATH = r'C:\\Users\\paul_\\OneDrive\\Pro\\Advestis\\K determination\\analysis\\datasets'"
   ]
  },
  {
   "cell_type": "code",
   "execution_count": 4,
   "metadata": {},
   "outputs": [],
   "source": [
    "df = pd.read_csv(DATA_PATH + r'\\swimmer\\swimmer_2.csv')\n",
    "m0 = df.values[:,2:].astype(np.float_)\n",
    "\n",
    "# df = pd.read_csv(DATA_PATH + r'\\sausage\\Sausage Raw NIR.csv')\n",
    "# m0 = df.values[:,8:].astype(np.float_)\n",
    "\n",
    "# df = pd.read_csv(DATA_PATH + r'\\esg\\esg_posneg.csv')\n",
    "# m0 = df.values[:,1:].astype(np.float_)\n",
    "\n",
    "# df = pd.read_csv(DATA_PATH + r'\\brunet\\ALL-AML Brunet.csv')\n",
    "# m0 = df.values[:,2:].astype(np.float_)\n",
    "\n",
    "(n,p) = np.shape(m0)\n",
    "\n",
    "# for Brunet only:\n",
    "# m0 = np.log2(df.values[:,2:].astype(np.float_))\n",
    "# m0-=np.repeat(np.min(m0, axis=0)[:,np.newaxis].T, n, axis=0)\n",
    "\n",
    "min_comp = 10\n",
    "max_comp = 20\n",
    "n_runs = 50\n",
    "iter_max = 10"
   ]
  },
  {
   "cell_type": "code",
   "execution_count": 5,
   "metadata": {},
   "outputs": [
    {
     "name": "stdout",
     "output_type": "stream",
     "text": [
      "51.43693733215332\n"
     ]
    }
   ],
   "source": [
    "time_start = time.time()\n",
    "test_w = np.zeros(max_comp)\n",
    "test_h = np.zeros(max_comp)\n",
    "\n",
    "for n_comp in range(min_comp,max_comp+1):\n",
    "    my_nmfmodel = NMF(n_components=n_comp, init='nndsvda', solver='cd', beta_loss='frobenius', max_iter=iter_max, random_state=0)\n",
    "    #my_nmfmodel = NMF(n_components=n_comp, init='nndsvda', solver='mu', beta_loss='kullback-leibler', max_iter=200, random_state=0)\n",
    "    w4 = my_nmfmodel.fit_transform(m0)\n",
    "    h4 = my_nmfmodel.components_.T\n",
    "    error = np.linalg.norm(m0 - w4 @ h4.T)\n",
    "    #error = 1\n",
    "\n",
    "    my_nmfmodel_random = NMF(n_components=n_comp, init='custom', solver='cd', beta_loss='frobenius', max_iter=iter_max, random_state=0)\n",
    "    #my_nmfmodel_random = NMF(n_components=n_comp, init='custom', solver='mu', beta_loss='kullback-leibler', max_iter=200, random_state=0)\n",
    "    np.random.seed(234)\n",
    "\n",
    "    for i_run in range(0,n_runs):\n",
    "        print('n_comp = ' + str(n_comp) + '; i_run = ' + str(i_run))\n",
    "        w4_init = np.random.rand(n,n_comp); h4_init = np.random.rand(p,n_comp).T\n",
    "        w4_random = my_nmfmodel_random.fit_transform(m0, W=w4_init.copy(), H=h4_init.copy())\n",
    "        h4_random = my_nmfmodel_random.components_.T\n",
    "        \n",
    "        mcorr = np.corrcoef(w4, w4_random, rowvar=False)[0:n_comp,n_comp:2*n_comp]\n",
    "        mcorr[np.isnan(mcorr)] = -1\n",
    "        idx = mcorr.argmax(axis=1)\n",
    "        mean_corr = np.mean([mcorr[i, idx[i]] for i in range(0,n_comp)])\n",
    "        x = np.unique(idx).shape[0]\n",
    "        # Move concordance into [0,1] range instead of [1/n_comp, 1] to cancel bias for low ranks\n",
    "        # and correct for mean correlation level in matches\n",
    "        test_w[n_comp-1] += ((x*(x-1)) / ((n_comp-1)*n_comp))*mean_corr\n",
    "        # test_w[n_comp-1] += x / n_comp\n",
    "\n",
    "        mcorr = np.corrcoef(h4, h4_random, rowvar=False)[0:n_comp,n_comp:2*n_comp]\n",
    "        mcorr[np.isnan(mcorr)] = -1\n",
    "        idx = mcorr.argmax(axis=1)\n",
    "        mean_corr = np.mean([mcorr[i, idx[i]] for i in range(0,n_comp)])\n",
    "        x = np.unique(idx).shape[0]\n",
    "        test_h[n_comp-1] += ((x*(x-1)) / ((n_comp-1)*n_comp))*mean_corr\n",
    "        # test_h[n_comp-1] += x / n_comp\n",
    "\n",
    "    clear_output(wait=True)\n",
    "    test_w[n_comp-1] /= (n_runs*error)\n",
    "    test_h[n_comp-1] /= (n_runs*error)\n",
    "    time_elapsed = (time.time() - time_start)\n",
    "    print(time_elapsed)"
   ]
  },
  {
   "cell_type": "code",
   "execution_count": 6,
   "metadata": {},
   "outputs": [
    {
     "name": "stdout",
     "output_type": "stream",
     "text": [
      "Estimated rank =  17\n"
     ]
    }
   ],
   "source": [
    "# Cusum calculation\n",
    "cusum = np.zeros(max_comp)\n",
    "test = np.sqrt(test_w * test_h)\n",
    "cusum[min_comp-2] = (test[min_comp-2]-test[min_comp-1] > 0)\n",
    "\n",
    "for n_comp in range(min_comp,max_comp):\n",
    "    if test[n_comp-1]-test[n_comp] > 0:\n",
    "        deltax = 1\n",
    "    else:\n",
    "        deltax = -1\n",
    "    \n",
    "    cusum[n_comp-1] = max(cusum[n_comp-2]+deltax, 0)\n",
    "\n",
    "cusum[max_comp-1] = cusum[max_comp-2]\n",
    "\n",
    "# Rank estimation\n",
    "n_comp_est = 999\n",
    "for n_comp in range(1,max_comp-2):\n",
    "    if cusum[n_comp-1]*cusum[n_comp]*cusum[n_comp+1]> 0:\n",
    "        n_comp_est = n_comp\n",
    "        break\n",
    "\n",
    "print('Estimated rank = ', n_comp_est)"
   ]
  },
  {
   "cell_type": "code",
   "execution_count": null,
   "metadata": {},
   "outputs": [],
   "source": [
    "# np.savetxt(DATA_PATH + r'\\brunet\\test_scipy_cd_brunet.csv',  np.concatenate((test_w, test_h), axis=0), delimiter=',')\n",
    "# np.savetxt(DATA_PATH + r'\\sausage\\test_scipy_cd_sausage.csv',  np.concatenate((test_w, test_h), axis=0), delimiter=',')\n",
    "np.savetxt(DATA_PATH + r'\\swimmer\\test_scipy_cd_swimmer.csv',  np.concatenate((test_w, test_h), axis=0), delimiter=',')\n",
    "# np.savetxt(DATA_PATH + r'\\esg\\test_scipy_cd_esg.csv',  np.concatenate((test_w, test_h), axis=0), delimiter=',')\n"
   ]
  },
  {
   "cell_type": "code",
   "execution_count": null,
   "metadata": {},
   "outputs": [],
   "source": [
    "cusum"
   ]
  }
 ],
 "metadata": {
  "kernelspec": {
   "display_name": "Python 3",
   "language": "python",
   "name": "python3"
  },
  "language_info": {
   "codemirror_mode": {
    "name": "ipython",
    "version": 3
   },
   "file_extension": ".py",
   "mimetype": "text/x-python",
   "name": "python",
   "nbconvert_exporter": "python",
   "pygments_lexer": "ipython3",
   "version": "3.9.0"
  },
  "orig_nbformat": 4
 },
 "nbformat": 4,
 "nbformat_minor": 2
}
