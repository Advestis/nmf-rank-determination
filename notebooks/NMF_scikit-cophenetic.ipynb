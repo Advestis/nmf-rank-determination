{
 "cells": [
  {
   "cell_type": "markdown",
   "source": [
    "# NMF RANK DETERMINATION"
   ],
   "metadata": {
    "collapsed": false
   }
  },
  {
   "cell_type": "code",
   "execution_count": null,
   "outputs": [],
   "source": [
    "%load_ext autoreload\n",
    "%autoreload 2"
   ],
   "metadata": {
    "collapsed": false
   }
  },
  {
   "cell_type": "markdown",
   "source": [
    "# Libraries"
   ],
   "metadata": {
    "collapsed": false
   }
  },
  {
   "cell_type": "code",
   "execution_count": null,
   "outputs": [],
   "source": [
    "import time\n",
    "from nmf_utils import *\n",
    "\n",
    "# Ignore ConvergenceWarning messages from Scikit-learn\n",
    "import warnings\n",
    "from sklearn.exceptions import ConvergenceWarning\n",
    "warnings.simplefilter(\"ignore\", category=ConvergenceWarning)"
   ],
   "metadata": {
    "collapsed": false
   }
  },
  {
   "cell_type": "markdown",
   "source": [
    "# Paths & Parameters"
   ],
   "metadata": {
    "collapsed": false
   }
  },
  {
   "cell_type": "code",
   "execution_count": null,
   "outputs": [],
   "source": [
    "DATA_PATH = r'../datasets'\n",
    "OUTPUTS_PATH = r'../outputs'\n",
    "\n",
    "DATASET_NAME = r'swimmer_2.csv'          # Swimmer\n",
    "# DATASET_NAME = r'Sausage Raw NIR.csv'  # Sausage\n",
    "# DATASET_NAME = r'ALL-AML Brunet.csv'   # Brunet\n",
    "\n",
    "min_comp = 10  # default=10\n",
    "max_comp = 20  # default=20\n",
    "n_runs = 50    # default=50\n",
    "iter_max = 10  # default=10"
   ],
   "metadata": {
    "collapsed": false
   }
  },
  {
   "cell_type": "markdown",
   "source": [
    "# Read Dataset"
   ],
   "metadata": {
    "collapsed": false
   }
  },
  {
   "cell_type": "code",
   "execution_count": null,
   "outputs": [],
   "source": [
    "df, m0 = read_dataset(DATA_PATH, DATASET_NAME)\n",
    "display(df)"
   ],
   "metadata": {
    "collapsed": false
   }
  },
  {
   "cell_type": "markdown",
   "source": [
    "# Cophenetic Test"
   ],
   "metadata": {
    "collapsed": false
   }
  },
  {
   "cell_type": "code",
   "execution_count": null,
   "metadata": {},
   "outputs": [],
   "source": [
    "time_start = time.time()\n",
    "test_w, test_h, co_h = perform_cophenetic_test(m0, min_comp, max_comp, iter_max, n_runs)\n",
    "time_elapsed = (time.time() - time_start)\n",
    "print(f\"[INFO] Elapsed time: {time_elapsed} seconds\")"
   ]
  },
  {
   "cell_type": "markdown",
   "source": [
    "# Cusum Calculation"
   ],
   "metadata": {
    "collapsed": false
   }
  },
  {
   "cell_type": "code",
   "execution_count": null,
   "outputs": [],
   "source": [
    "cusum = cusum_calculation(min_comp, max_comp, test_w, test_h)"
   ],
   "metadata": {
    "collapsed": false
   }
  },
  {
   "cell_type": "markdown",
   "source": [
    "# Rank Estimation"
   ],
   "metadata": {
    "collapsed": false
   }
  },
  {
   "cell_type": "code",
   "execution_count": null,
   "outputs": [],
   "source": [
    "estimated_rank = rank_estimation(cusum, max_comp)"
   ],
   "metadata": {
    "collapsed": false
   }
  },
  {
   "cell_type": "markdown",
   "source": [
    "# Saving the results"
   ],
   "metadata": {
    "collapsed": false
   }
  },
  {
   "cell_type": "code",
   "execution_count": null,
   "metadata": {},
   "outputs": [],
   "source": [
    "filename1_to_save = f\"{DATASET_NAME}_cophenetic_test.csv\"\n",
    "filename2_to_save = f\"{DATASET_NAME}_1-co_h.csv\"\n",
    "data_to_save = np.concatenate((test_w, test_h), axis=0)\n",
    "np.savetxt(os.path.join(OUTPUTS_PATH, filename1_to_save), data_to_save, delimiter=',')\n",
    "np.savetxt(os.path.join(OUTPUTS_PATH, filename2_to_save), 1 - co_h, delimiter=',')"
   ]
  }
 ],
 "metadata": {
  "kernelspec": {
   "display_name": "Python 3",
   "language": "python",
   "name": "python3"
  },
  "language_info": {
   "codemirror_mode": {
    "name": "ipython",
    "version": 3
   },
   "file_extension": ".py",
   "mimetype": "text/x-python",
   "name": "python",
   "nbconvert_exporter": "python",
   "pygments_lexer": "ipython3",
   "version": "3.9.0"
  },
  "orig_nbformat": 4
 },
 "nbformat": 4,
 "nbformat_minor": 2
}
