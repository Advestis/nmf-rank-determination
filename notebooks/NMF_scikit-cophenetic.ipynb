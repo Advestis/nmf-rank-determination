{
 "cells": [
  {
   "cell_type": "markdown",
   "source": [
    "# NMF RANK DETERMINATION"
   ],
   "metadata": {
    "collapsed": false
   }
  },
  {
   "cell_type": "code",
   "execution_count": 15,
   "outputs": [],
   "source": [
    "import os\n",
    "from sklearn.decomposition import NMF\n",
    "import pandas as pd\n",
    "import numpy as np\n",
    "from IPython.display import clear_output\n",
    "import time\n",
    "from sklearn.preprocessing import normalize\n",
    "from scipy.cluster.hierarchy import linkage, cophenet\n",
    "\n",
    "DATA_PATH = r'../datasets'\n",
    "\n",
    "DATASET_NAME = r'swimmer_2.csv'          # Swimmer\n",
    "# DATASET_NAME = r'Sausage Raw NIR.csv'  # Sausage\n",
    "# DATASET_NAME = r'ALL-AML Brunet.csv'   # Brunet"
   ],
   "metadata": {
    "collapsed": false
   }
  },
  {
   "cell_type": "markdown",
   "source": [
    "# Reading the data"
   ],
   "metadata": {
    "collapsed": false
   }
  },
  {
   "cell_type": "code",
   "execution_count": 16,
   "outputs": [
    {
     "data": {
      "text/plain": "         Label Column 2  Row 1  Row 2  Row 3  Row 4  Row 5  Row 6  Row 7  \\\n0      c111112    image      1      1      1      1      1      1      1   \n1      c111113    image      1      1      1      1      1      1      1   \n2      c111114    image      1      1      1      1      1      1      1   \n3      c111115    image      1      1      1      1      1      1      1   \n4      c111116    image      1      1      1      1      1      1      1   \n..         ...      ...    ...    ...    ...    ...    ...    ...    ...   \n251  c11111253    image      1      1      1      1      1      1      1   \n252  c11111254    image      1      1      1      1      1      1      1   \n253  c11111255    image      1      1      1      1      1      1      1   \n254  c11111256    image      1      1      1      1      1      1      1   \n255  c11111257    image      1      1      1      1      1      1      1   \n\n     Row 8  ...  Row 1115.1  Row 1116.1  Row 1117.1  Row 1118.1  Row 1119.1  \\\n0        1  ...           1           1           1           1           1   \n1        1  ...           1           1           1           1           1   \n2        1  ...           1           1           1           1           1   \n3        1  ...           1           1           1           1           1   \n4        1  ...           1           1           1           1           1   \n..     ...  ...         ...         ...         ...         ...         ...   \n251      1  ...           1           1           1           1           1   \n252      1  ...           1           1           1           1           1   \n253      1  ...           1           1           1           1           1   \n254      1  ...           1           1           1           1           1   \n255      1  ...           1           1           1           1           1   \n\n     Row 1121  Row 1121.1  Row 1122  Row 1123  Row 1124  \n0           1           1         1         1         1  \n1           1           1         1         1         1  \n2           1           1         1         1         1  \n3           1           1         1         1         1  \n4           1           1         1         1         1  \n..        ...         ...       ...       ...       ...  \n251         1           1         1         1         1  \n252         1           1         1         1         1  \n253         1           1         1         1         1  \n254         1           1         1         1         1  \n255         1           1         1         1         1  \n\n[256 rows x 1026 columns]",
      "text/html": "<div>\n<style scoped>\n    .dataframe tbody tr th:only-of-type {\n        vertical-align: middle;\n    }\n\n    .dataframe tbody tr th {\n        vertical-align: top;\n    }\n\n    .dataframe thead th {\n        text-align: right;\n    }\n</style>\n<table border=\"1\" class=\"dataframe\">\n  <thead>\n    <tr style=\"text-align: right;\">\n      <th></th>\n      <th>Label</th>\n      <th>Column 2</th>\n      <th>Row 1</th>\n      <th>Row 2</th>\n      <th>Row 3</th>\n      <th>Row 4</th>\n      <th>Row 5</th>\n      <th>Row 6</th>\n      <th>Row 7</th>\n      <th>Row 8</th>\n      <th>...</th>\n      <th>Row 1115.1</th>\n      <th>Row 1116.1</th>\n      <th>Row 1117.1</th>\n      <th>Row 1118.1</th>\n      <th>Row 1119.1</th>\n      <th>Row 1121</th>\n      <th>Row 1121.1</th>\n      <th>Row 1122</th>\n      <th>Row 1123</th>\n      <th>Row 1124</th>\n    </tr>\n  </thead>\n  <tbody>\n    <tr>\n      <th>0</th>\n      <td>c111112</td>\n      <td>image</td>\n      <td>1</td>\n      <td>1</td>\n      <td>1</td>\n      <td>1</td>\n      <td>1</td>\n      <td>1</td>\n      <td>1</td>\n      <td>1</td>\n      <td>...</td>\n      <td>1</td>\n      <td>1</td>\n      <td>1</td>\n      <td>1</td>\n      <td>1</td>\n      <td>1</td>\n      <td>1</td>\n      <td>1</td>\n      <td>1</td>\n      <td>1</td>\n    </tr>\n    <tr>\n      <th>1</th>\n      <td>c111113</td>\n      <td>image</td>\n      <td>1</td>\n      <td>1</td>\n      <td>1</td>\n      <td>1</td>\n      <td>1</td>\n      <td>1</td>\n      <td>1</td>\n      <td>1</td>\n      <td>...</td>\n      <td>1</td>\n      <td>1</td>\n      <td>1</td>\n      <td>1</td>\n      <td>1</td>\n      <td>1</td>\n      <td>1</td>\n      <td>1</td>\n      <td>1</td>\n      <td>1</td>\n    </tr>\n    <tr>\n      <th>2</th>\n      <td>c111114</td>\n      <td>image</td>\n      <td>1</td>\n      <td>1</td>\n      <td>1</td>\n      <td>1</td>\n      <td>1</td>\n      <td>1</td>\n      <td>1</td>\n      <td>1</td>\n      <td>...</td>\n      <td>1</td>\n      <td>1</td>\n      <td>1</td>\n      <td>1</td>\n      <td>1</td>\n      <td>1</td>\n      <td>1</td>\n      <td>1</td>\n      <td>1</td>\n      <td>1</td>\n    </tr>\n    <tr>\n      <th>3</th>\n      <td>c111115</td>\n      <td>image</td>\n      <td>1</td>\n      <td>1</td>\n      <td>1</td>\n      <td>1</td>\n      <td>1</td>\n      <td>1</td>\n      <td>1</td>\n      <td>1</td>\n      <td>...</td>\n      <td>1</td>\n      <td>1</td>\n      <td>1</td>\n      <td>1</td>\n      <td>1</td>\n      <td>1</td>\n      <td>1</td>\n      <td>1</td>\n      <td>1</td>\n      <td>1</td>\n    </tr>\n    <tr>\n      <th>4</th>\n      <td>c111116</td>\n      <td>image</td>\n      <td>1</td>\n      <td>1</td>\n      <td>1</td>\n      <td>1</td>\n      <td>1</td>\n      <td>1</td>\n      <td>1</td>\n      <td>1</td>\n      <td>...</td>\n      <td>1</td>\n      <td>1</td>\n      <td>1</td>\n      <td>1</td>\n      <td>1</td>\n      <td>1</td>\n      <td>1</td>\n      <td>1</td>\n      <td>1</td>\n      <td>1</td>\n    </tr>\n    <tr>\n      <th>...</th>\n      <td>...</td>\n      <td>...</td>\n      <td>...</td>\n      <td>...</td>\n      <td>...</td>\n      <td>...</td>\n      <td>...</td>\n      <td>...</td>\n      <td>...</td>\n      <td>...</td>\n      <td>...</td>\n      <td>...</td>\n      <td>...</td>\n      <td>...</td>\n      <td>...</td>\n      <td>...</td>\n      <td>...</td>\n      <td>...</td>\n      <td>...</td>\n      <td>...</td>\n      <td>...</td>\n    </tr>\n    <tr>\n      <th>251</th>\n      <td>c11111253</td>\n      <td>image</td>\n      <td>1</td>\n      <td>1</td>\n      <td>1</td>\n      <td>1</td>\n      <td>1</td>\n      <td>1</td>\n      <td>1</td>\n      <td>1</td>\n      <td>...</td>\n      <td>1</td>\n      <td>1</td>\n      <td>1</td>\n      <td>1</td>\n      <td>1</td>\n      <td>1</td>\n      <td>1</td>\n      <td>1</td>\n      <td>1</td>\n      <td>1</td>\n    </tr>\n    <tr>\n      <th>252</th>\n      <td>c11111254</td>\n      <td>image</td>\n      <td>1</td>\n      <td>1</td>\n      <td>1</td>\n      <td>1</td>\n      <td>1</td>\n      <td>1</td>\n      <td>1</td>\n      <td>1</td>\n      <td>...</td>\n      <td>1</td>\n      <td>1</td>\n      <td>1</td>\n      <td>1</td>\n      <td>1</td>\n      <td>1</td>\n      <td>1</td>\n      <td>1</td>\n      <td>1</td>\n      <td>1</td>\n    </tr>\n    <tr>\n      <th>253</th>\n      <td>c11111255</td>\n      <td>image</td>\n      <td>1</td>\n      <td>1</td>\n      <td>1</td>\n      <td>1</td>\n      <td>1</td>\n      <td>1</td>\n      <td>1</td>\n      <td>1</td>\n      <td>...</td>\n      <td>1</td>\n      <td>1</td>\n      <td>1</td>\n      <td>1</td>\n      <td>1</td>\n      <td>1</td>\n      <td>1</td>\n      <td>1</td>\n      <td>1</td>\n      <td>1</td>\n    </tr>\n    <tr>\n      <th>254</th>\n      <td>c11111256</td>\n      <td>image</td>\n      <td>1</td>\n      <td>1</td>\n      <td>1</td>\n      <td>1</td>\n      <td>1</td>\n      <td>1</td>\n      <td>1</td>\n      <td>1</td>\n      <td>...</td>\n      <td>1</td>\n      <td>1</td>\n      <td>1</td>\n      <td>1</td>\n      <td>1</td>\n      <td>1</td>\n      <td>1</td>\n      <td>1</td>\n      <td>1</td>\n      <td>1</td>\n    </tr>\n    <tr>\n      <th>255</th>\n      <td>c11111257</td>\n      <td>image</td>\n      <td>1</td>\n      <td>1</td>\n      <td>1</td>\n      <td>1</td>\n      <td>1</td>\n      <td>1</td>\n      <td>1</td>\n      <td>1</td>\n      <td>...</td>\n      <td>1</td>\n      <td>1</td>\n      <td>1</td>\n      <td>1</td>\n      <td>1</td>\n      <td>1</td>\n      <td>1</td>\n      <td>1</td>\n      <td>1</td>\n      <td>1</td>\n    </tr>\n  </tbody>\n</table>\n<p>256 rows × 1026 columns</p>\n</div>"
     },
     "metadata": {},
     "output_type": "display_data"
    }
   ],
   "source": [
    "# Reading the data\n",
    "df = pd.read_csv(os.path.join(DATA_PATH, DATASET_NAME))\n",
    "display(df)\n",
    "\n",
    "# Date Processing\n",
    "m0 = df.values[:, 2:].astype(np.float_)  # Swimmer_2 Dataset\n",
    "# m0 = df.values[:, 8:].astype(np.float_)  # Sausage Dataset\n",
    "# m0 = df.values[:, 1:].astype(np.float_)  # esg_posneg Dataset\n",
    "# m0 = df.values[:, 2:].astype(np.float_)  # Brunet Dataset\n",
    "\n",
    "(n, p) = np.shape(m0)\n",
    "\n",
    "# for Brunet Dataset only:\n",
    "# m0 = np.log2(df.values[:, 2:].astype(np.float_))\n",
    "# m0 -= np.repeat(np.min(m0, axis=0)[:, np.newaxis].T, n, axis=0)"
   ],
   "metadata": {
    "collapsed": false
   }
  },
  {
   "cell_type": "markdown",
   "source": [
    "# Parameters"
   ],
   "metadata": {
    "collapsed": false
   }
  },
  {
   "cell_type": "code",
   "execution_count": null,
   "outputs": [],
   "source": [
    "min_comp = 10\n",
    "max_comp = 20\n",
    "n_runs = 50\n",
    "iter_max = 10"
   ],
   "metadata": {
    "collapsed": false
   }
  },
  {
   "cell_type": "markdown",
   "source": [
    "# Main Workflow"
   ],
   "metadata": {
    "collapsed": false
   }
  },
  {
   "cell_type": "code",
   "execution_count": 29,
   "metadata": {},
   "outputs": [
    {
     "name": "stdout",
     "output_type": "stream",
     "text": [
      "49.76531171798706\n"
     ]
    }
   ],
   "source": [
    "time_start = time.time()\n",
    "\n",
    "test_w = np.zeros(max_comp)\n",
    "test_h = np.zeros(max_comp)\n",
    "c_w = np.zeros(n)\n",
    "c_h = np.zeros(p)\n",
    "iln1 = np.triu_indices(n, 1)\n",
    "ilp1 = np.triu_indices(p, 1)\n",
    "\n",
    "for n_comp in range(min_comp, max_comp + 1):\n",
    "    my_nmfmodel = NMF(n_components=n_comp, init='nndsvda', solver='cd', beta_loss='frobenius', max_iter=iter_max, random_state=0)\n",
    "    w4 = my_nmfmodel.fit_transform(m0)\n",
    "    h4 = my_nmfmodel.components_.T\n",
    "    error = np.linalg.norm(m0 - w4 @ h4.T)\n",
    "    co_w = np.zeros(int(n * (n - 1) / 2))\n",
    "    co_h = np.zeros(int(p * (p - 1) / 2))\n",
    "    my_nmfmodel_random = NMF(n_components=n_comp, init='custom', solver='cd', beta_loss='frobenius', max_iter=iter_max, random_state=0)\n",
    "\n",
    "    for i_run in range(0, n_runs):\n",
    "        print('n_comp = ' + str(n_comp) + '; i_run = ' + str(i_run))\n",
    "        w4_init = np.random.rand(n, n_comp); h4_init = np.random.rand(p, n_comp).T\n",
    "        w4 = my_nmfmodel_random.fit_transform(m0, W=w4_init, H=h4_init)\n",
    "        h4 = my_nmfmodel_random.components_.T\n",
    "        c_w = np.argmax(normalize(w4, axis=0), axis=1)\n",
    "        c_h = np.argmax(normalize(h4, axis=0), axis=1)\n",
    "        # co_w += np.array([c_w[i] == c_w[j] for i in range(0,n-1) for j in range(i+1,n)])\n",
    "        # co_h += np.array([c_h[i] == c_h[j] for i in range(0,p-1) for j in range(i+1,p)])\n",
    "        co_w += np.equal.outer(c_w, c_w)[iln1]\n",
    "        co_h += np.equal.outer(c_h, c_h)[ilp1]\n",
    "\n",
    "    co_w = 1 - co_w / n_runs\n",
    "    co_h = 1 - co_h / n_runs\n",
    "    cpc_w, cp_w = cophenet(linkage(co_w, method='ward'), co_w)\n",
    "    cpc_h, cp_h = cophenet(linkage(co_h, method='ward'), co_h)\n",
    "    clear_output(wait=True)\n",
    "    test_w[n_comp - 1] = cpc_w / error\n",
    "    test_h[n_comp - 1] = cpc_h / error\n",
    "\n",
    "time_elapsed = (time.time() - time_start)\n",
    "print(time_elapsed)"
   ]
  },
  {
   "cell_type": "markdown",
   "source": [
    "# CUMSUM Calculation"
   ],
   "metadata": {
    "collapsed": false
   }
  },
  {
   "cell_type": "code",
   "execution_count": 30,
   "metadata": {},
   "outputs": [
    {
     "name": "stdout",
     "output_type": "stream",
     "text": [
      "Estimated rank =  17\n"
     ]
    }
   ],
   "source": [
    "cusum = np.zeros(max_comp)\n",
    "test = np.sqrt(test_w * test_h)\n",
    "cusum[min_comp - 2] = (test[min_comp - 2] - test[min_comp - 1] > 0)\n",
    "\n",
    "for n_comp in range(min_comp, max_comp):\n",
    "    if test[n_comp - 1] - test[n_comp] > 0:\n",
    "        deltax = 1\n",
    "    else:\n",
    "        deltax = -1\n",
    "    cusum[n_comp - 1] = max(cusum[n_comp - 2] + deltax, 0)\n",
    "cusum[max_comp - 1] = cusum[max_comp - 2]"
   ]
  },
  {
   "cell_type": "markdown",
   "source": [
    "# Rank Estimation"
   ],
   "metadata": {
    "collapsed": false
   }
  },
  {
   "cell_type": "code",
   "execution_count": null,
   "outputs": [],
   "source": [
    "n_comp_est = 999\n",
    "\n",
    "for n_comp in range(1, max_comp - 2):\n",
    "    if cusum[n_comp - 1] * cusum[n_comp] * cusum[n_comp + 1] > 0:\n",
    "        n_comp_est = n_comp\n",
    "        break\n",
    "\n",
    "print('Estimated rank = ', n_comp_est)"
   ],
   "metadata": {
    "collapsed": false
   }
  },
  {
   "cell_type": "code",
   "execution_count": null,
   "metadata": {},
   "outputs": [],
   "source": [
    "test_w"
   ]
  },
  {
   "cell_type": "markdown",
   "source": [
    "# Saving the results"
   ],
   "metadata": {
    "collapsed": false
   }
  },
  {
   "cell_type": "code",
   "execution_count": null,
   "metadata": {},
   "outputs": [],
   "source": [
    "# np.savetxt(DATA_PATH + r'\\brunet\\test_scipy_cd_brunet.csv',  np.concatenate((test_w, test_h), axis=0), delimiter=',')\n",
    "# np.savetxt(DATA_PATH + r'\\sausage\\test_scipy_cd_sausage.csv',  np.concatenate((test_w, test_h), axis=0), delimiter=',')\n",
    "np.savetxt(DATA_PATH + r'\\swimmer\\test_scipy_cd_swimmer.csv',  np.concatenate((test_w, test_h), axis=0), delimiter=',')\n",
    "# np.savetxt(DATA_PATH + r'\\esg\\test_scipy_cd_esg.csv',  np.concatenate((test_w, test_h), axis=0), delimiter=',')\n",
    "np.savetxt(DATA_PATH + r'\\foo.csv', 1-co_h, delimiter=',')"
   ]
  }
 ],
 "metadata": {
  "kernelspec": {
   "display_name": "Python 3",
   "language": "python",
   "name": "python3"
  },
  "language_info": {
   "codemirror_mode": {
    "name": "ipython",
    "version": 3
   },
   "file_extension": ".py",
   "mimetype": "text/x-python",
   "name": "python",
   "nbconvert_exporter": "python",
   "pygments_lexer": "ipython3",
   "version": "3.9.0"
  },
  "orig_nbformat": 4
 },
 "nbformat": 4,
 "nbformat_minor": 2
}
